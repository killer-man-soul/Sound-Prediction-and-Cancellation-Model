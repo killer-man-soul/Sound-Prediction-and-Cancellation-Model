{
 "cells": [
  {
   "cell_type": "code",
   "execution_count": 1,
   "id": "531507d5",
   "metadata": {
    "lines_to_next_cell": 2
   },
   "outputs": [
    {
     "name": "stdout",
     "output_type": "stream",
     "text": [
      "WARNING:tensorflow:From c:\\Users\\KOUSHIK\\AppData\\Local\\Programs\\Python\\Python311\\Lib\\site-packages\\keras\\src\\losses.py:2976: The name tf.losses.sparse_softmax_cross_entropy is deprecated. Please use tf.compat.v1.losses.sparse_softmax_cross_entropy instead.\n",
      "\n"
     ]
    }
   ],
   "source": [
    "\n",
    "import sys\n",
    "import os\n",
    "import librosa\n",
    "import pickle\n",
    "import numpy as np\n",
    "import pandas as pd\n",
    "import tensorflow as tf\n",
    "import matplotlib.pyplot as plt\n",
    "from playsound import playsound\n",
    "from librosa.feature import melspectrogram"
   ]
  },
  {
   "cell_type": "code",
   "execution_count": 2,
   "id": "093bda91",
   "metadata": {},
   "outputs": [
    {
     "data": {
      "text/plain": [
       "'original_audio.wav'"
      ]
     },
     "execution_count": 2,
     "metadata": {},
     "output_type": "execute_result"
    }
   ],
   "source": [
    "filename = 'original_audio.wav'\n",
    "filename"
   ]
  },
  {
   "cell_type": "code",
   "execution_count": 3,
   "id": "e1ac96a2",
   "metadata": {
    "lines_to_next_cell": 2
   },
   "outputs": [
    {
     "name": "stdout",
     "output_type": "stream",
     "text": [
      "WARNING:tensorflow:From c:\\Users\\KOUSHIK\\AppData\\Local\\Programs\\Python\\Python311\\Lib\\site-packages\\keras\\src\\backend.py:1398: The name tf.executing_eagerly_outside_functions is deprecated. Please use tf.compat.v1.executing_eagerly_outside_functions instead.\n",
      "\n",
      "WARNING:tensorflow:From c:\\Users\\KOUSHIK\\AppData\\Local\\Programs\\Python\\Python311\\Lib\\site-packages\\keras\\src\\layers\\pooling\\max_pooling2d.py:161: The name tf.nn.max_pool is deprecated. Please use tf.nn.max_pool2d instead.\n",
      "\n",
      "1/1 [==============================] - 0s 84ms/step\n",
      "Playing and identifying sound....\n"
     ]
    }
   ],
   "source": [
    "filename = 'original_audio.wav'\n",
    "\n",
    "f, sr = librosa.load(filename, sr=44100)\n",
    "actual_audio_length = len(f)/sr\n",
    "three_sec_samples = 3*sr\n",
    "if (len(f) >= three_sec_samples):\n",
    "    log_mel_spec = librosa.power_to_db(melspectrogram(\n",
    "        y=f[:three_sec_samples], sr=sr, n_fft=1034, hop_length=1034))\n",
    "    # Log Mel spectograms of first 3 secs\n",
    "else:\n",
    "    # If audio is not 3 sec repeat pad until its 3 secs long\n",
    "    while (len(f) < three_sec_samples):\n",
    "        f = np.concatenate((f, f))\n",
    "    log_mel_spec = librosa.power_to_db(melspectrogram(\n",
    "        y=f[:three_sec_samples], sr=sr, n_fft=1034, hop_length=1034))\n",
    "CNN_model = tf.keras.models.load_model('CNN_model.h5')\n",
    "predicted_class = np.argmax(CNN_model.predict(np.array([log_mel_spec])))\n",
    "\n",
    "print(\"Playing and identifying sound....\")\n",
    "playsound(filename)"
   ]
  },
  {
   "cell_type": "code",
   "execution_count": 4,
   "id": "26989abe",
   "metadata": {},
   "outputs": [
    {
     "name": "stdout",
     "output_type": "stream",
     "text": [
      "Sound Identified as 'Dog' sound\n"
     ]
    }
   ],
   "source": [
    "\n",
    "classes = [\"Air Conditioner\", \"Horn\", \"Children\", \"Dog\",\n",
    "           \"Drill\", \"Engine\", \"Gun\", \"Hammer\", \"Siren\", \"Music\"]\n",
    "print(\"Sound Identified as '{}' sound\".format(classes[predicted_class]))\n",
    "\n"
   ]
  },
  {
   "cell_type": "markdown",
   "id": "60a86434",
   "metadata": {},
   "source": [
    "## Simulink start here\n"
   ]
  },
  {
   "cell_type": "code",
   "execution_count": 5,
   "id": "22e992cd",
   "metadata": {
    "lines_to_next_cell": 2
   },
   "outputs": [],
   "source": [
    "ANC_Model = 'ANC_Model.slx'\n",
    "pretrainedweights = 'ANC Model Training/Pre-Trained Weights/Pretrained_weights_Class_{}.txt'.format(\n",
    "    predicted_class)\n",
    "newtrainedweights = 'New-Trained Weights/New-Trained_weights_Class_{}.txt'.format(\n",
    "    predicted_class)"
   ]
  },
  {
   "cell_type": "code",
   "execution_count": 17,
   "id": "4de06802",
   "metadata": {
    "lines_to_next_cell": 2
   },
   "outputs": [
    {
     "name": "stdout",
     "output_type": "stream",
     "text": [
      "Do you want to use your previously saved weights for this class?\n",
      "Enter 1 for \"YES\" and 0 for \"NO\"\n",
      "Using Pre-Trained weights\n",
      "Do you want to update your previously saved weights for this class based on this simulation?\n",
      "Note: Pretrained weights will not be effected by this\n",
      "Enter 1 for \"YES\" and 0 for \"NO\"\n"
     ]
    }
   ],
   "source": [
    "yourtrained = 0\n",
    "pretrained = 0\n",
    "print('Do you want to use your previously saved weights for this class?\\nEnter 1 for \"YES\" and 0 for \"NO\"')\n",
    "yourtrained = int(input())\n",
    "if yourtrained != 1 and yourtrained != 0:\n",
    "    while (yourtrained != 1 and yourtrained != 0):\n",
    "        print('Invalid Input. Enter 1 or 0')\n",
    "        yourtrained = int(input())\n",
    "\n",
    "if (yourtrained == 0):\n",
    "    print('Using Pre-Trained weights')\n",
    "    pretrained = 1\n",
    "\n",
    "print('Do you want to update your previously saved weights for this class based on this simulation?')\n",
    "print('Note: Pretrained weights will not be effected by this\\nEnter 1 for \"YES\" and 0 for \"NO\"')\n",
    "update = int(input())\n",
    "if update != 1 and update != 0:\n",
    "    while (update != 1 and update != 0):\n",
    "        print('Invalid Input. Enter 1 or 0')\n",
    "        update = int(input())"
   ]
  },
  {
   "cell_type": "code",
   "execution_count": 8,
   "id": "4a5a55aa",
   "metadata": {},
   "outputs": [],
   "source": [
    "simulation_time = actual_audio_length"
   ]
  },
  {
   "cell_type": "code",
   "execution_count": 15,
   "id": "4d8d0c20",
   "metadata": {
    "lines_to_next_cell": 2
   },
   "outputs": [
    {
     "ename": "OSError",
     "evalue": "Please reinstall MATLAB Engine for Python or contact MathWorks Technical Support for assistance:\nFirst issue: No module named 'matlabengineforpython3_11'\nSecond issue: No module named 'matlabengineforpython3_11'",
     "output_type": "error",
     "traceback": [
      "\u001b[1;31m---------------------------------------------------------------------------\u001b[0m",
      "\u001b[1;31mOSError\u001b[0m                                   Traceback (most recent call last)",
      "Cell \u001b[1;32mIn[15], line 1\u001b[0m\n\u001b[1;32m----> 1\u001b[0m \u001b[38;5;28;01mimport\u001b[39;00m \u001b[38;5;21;01mmatlab\u001b[39;00m\u001b[38;5;21;01m.\u001b[39;00m\u001b[38;5;21;01mengine\u001b[39;00m\n\u001b[0;32m      2\u001b[0m eng \u001b[38;5;241m=\u001b[39m matlab\u001b[38;5;241m.\u001b[39mengine\u001b[38;5;241m.\u001b[39mfind_matlab()\n",
      "File \u001b[1;32mc:\\Users\\KOUSHIK\\AppData\\Local\\Programs\\Python\\Python311\\Lib\\site-packages\\matlab\\engine\\__init__.py:76\u001b[0m\n\u001b[0;32m     73\u001b[0m         secondExceptionMessage \u001b[38;5;241m=\u001b[39m str1 \u001b[38;5;241m+\u001b[39m str2\n\u001b[0;32m     75\u001b[0m \u001b[38;5;28;01mif\u001b[39;00m secondExceptionMessage:        \n\u001b[1;32m---> 76\u001b[0m     \u001b[38;5;28;01mraise\u001b[39;00m \u001b[38;5;167;01mEnvironmentError\u001b[39;00m(secondExceptionMessage)\n\u001b[0;32m     79\u001b[0m \u001b[38;5;124;03m\"\"\"\u001b[39;00m\n\u001b[0;32m     80\u001b[0m \u001b[38;5;124;03mThis lock can make sure the global variable _engines is updated correctly in\u001b[39;00m\n\u001b[0;32m     81\u001b[0m \u001b[38;5;124;03mmulti-thread use case.  Also, it guarantees that only one MATLAB is launched\u001b[39;00m\n\u001b[0;32m     82\u001b[0m \u001b[38;5;124;03mwhen connect_matlab() is called if there is no shared MATLAB session.\u001b[39;00m\n\u001b[0;32m     83\u001b[0m \u001b[38;5;124;03m\"\"\"\u001b[39;00m\n\u001b[0;32m     84\u001b[0m _engine_lock \u001b[38;5;241m=\u001b[39m threading\u001b[38;5;241m.\u001b[39mRLock()\n",
      "\u001b[1;31mOSError\u001b[0m: Please reinstall MATLAB Engine for Python or contact MathWorks Technical Support for assistance:\nFirst issue: No module named 'matlabengineforpython3_11'\nSecond issue: No module named 'matlabengineforpython3_11'"
     ]
    }
   ],
   "source": [
    "import matlab.engine\n",
    "eng = matlab.engine.find_matlab()"
   ]
  },
  {
   "cell_type": "code",
   "execution_count": null,
   "id": "6ddcc16c",
   "metadata": {
    "lines_to_next_cell": 2
   },
   "outputs": [],
   "source": [
    "if (yourtrained == 1):\n",
    "    fileID = eng.fopen(newtrainedweights, 'r')\n",
    "    inputweights = eng.fscanf(fileID, '%f')\n",
    "else:\n",
    "    fileID = eng.fopen(pretrainedweights, 'r')\n",
    "    inputweights = eng.fscanf(fileID, '%f')"
   ]
  },
  {
   "cell_type": "code",
   "execution_count": null,
   "id": "44d6109b",
   "metadata": {},
   "outputs": [],
   "source": [
    "eng.workspace['inputweights'] = inputweights\n",
    "eng.workspace['gain'] = 1.0\n",
    "eng.workspace['volume'] = 100\n",
    "eng.workspace['timeout'] = simulation_time"
   ]
  },
  {
   "cell_type": "code",
   "execution_count": null,
   "id": "0648b3cc",
   "metadata": {
    "lines_to_next_cell": 2
   },
   "outputs": [],
   "source": [
    "eng.load_system(ANC_Model)"
   ]
  },
  {
   "cell_type": "code",
   "execution_count": null,
   "id": "1725c68c",
   "metadata": {
    "lines_to_next_cell": 2
   },
   "outputs": [],
   "source": [
    "print(\"Output of the system can be heard along with the visualizations as plots which shows both input and output\")\n",
    "print(\"Yellow plot shows the input sound whereas blue is the system output\")"
   ]
  },
  {
   "cell_type": "code",
   "execution_count": null,
   "id": "b78b7eae",
   "metadata": {},
   "outputs": [],
   "source": [
    "eng.sim(ANC_Model, nargout=0)\n",
    "if (update == 1):\n",
    "    print(\"Updating Weights....\")\n",
    "    latest_updatedweights = eng.workspace['simout'][-1]\n",
    "    fid = eng.fopen(newtrainedweights, 'w', nargout=1)\n",
    "    b = eng.fprintf(fid, '%.15f\\n', latest_updatedweights)\n",
    "    eng.fclose(fid, nargout=0)\n",
    "    print(\"Weights Updated\")"
   ]
  },
  {
   "cell_type": "code",
   "execution_count": null,
   "id": "4280c1af",
   "metadata": {},
   "outputs": [],
   "source": [
    "outputsound = np.array(eng.workspace['outsound'])"
   ]
  },
  {
   "cell_type": "code",
   "execution_count": null,
   "id": "0512feee",
   "metadata": {},
   "outputs": [],
   "source": [
    "eng.quit()"
   ]
  },
  {
   "cell_type": "code",
   "execution_count": null,
   "id": "01224d91",
   "metadata": {},
   "outputs": [],
   "source": [
    "realsound, _ = librosa.load(filename, sr=44100)\n",
    "ref_value = 0.00002  # ref_value here is the lowest possible noise humans can hear\n",
    "abs_realsound = abs(realsound)\n",
    "# no value should be less than the refrence value i.e refrence value = 0dB\n",
    "abs_realsound[abs_realsound < ref_value] = ref_value\n",
    "SPL_real = np.sum(20*np.log10(abs_realsound/0.00002))/len(abs_realsound)\n",
    "SPL_real"
   ]
  },
  {
   "cell_type": "code",
   "execution_count": null,
   "id": "578e50bd",
   "metadata": {},
   "outputs": [],
   "source": [
    "abs_output = abs(outputsound)\n",
    "abs_output[abs_output < ref_value] = ref_value\n",
    "SPL_output = np.sum(20*np.log10(abs_output/0.00002))/len(abs_output)\n",
    "SPL_output"
   ]
  },
  {
   "cell_type": "code",
   "execution_count": null,
   "id": "edb2ddc4",
   "metadata": {},
   "outputs": [],
   "source": [
    "df = pd.DataFrame({'group': list(\n",
    "    ('SPL BEFORE ANC', 'SPL AFTER ANC')), 'values': list((SPL_real, SPL_output))})\n",
    "\n",
    "# Reorder it based on the values\n",
    "ordered_df = df.sort_values(by='values')\n",
    "my_range = range(1, len(df.index)+1)\n",
    "\n",
    "# The horizontal plot is made using the hline function\n",
    "plt.hlines(y=my_range, xmin=0, xmax=ordered_df['values'], color='red')\n",
    "plt.plot(ordered_df['values'], my_range, \"o\")\n",
    "\n",
    "# Add titles and axis names\n",
    "plt.yticks(my_range, ordered_df['group'])\n",
    "plt.title(\"SPL OF NOISE\")\n",
    "plt.xlabel('SPL (dB)')\n",
    "\n",
    "# Show the plot\n",
    "plt.show()"
   ]
  }
 ],
 "metadata": {
  "jupytext": {
   "cell_metadata_filter": "-all",
   "encoding": "# coding: utf-8",
   "executable": "/usr/bin/env python",
   "main_language": "python",
   "notebook_metadata_filter": "-all"
  },
  "kernelspec": {
   "display_name": "Python 3",
   "language": "python",
   "name": "python3"
  },
  "language_info": {
   "codemirror_mode": {
    "name": "ipython",
    "version": 3
   },
   "file_extension": ".py",
   "mimetype": "text/x-python",
   "name": "python",
   "nbconvert_exporter": "python",
   "pygments_lexer": "ipython3",
   "version": "3.11.2"
  }
 },
 "nbformat": 4,
 "nbformat_minor": 5
}
